{
 "cells": [
  {
   "cell_type": "code",
   "execution_count": 27,
   "metadata": {
    "scrolled": true
   },
   "outputs": [
    {
     "data": {
      "text/plain": [
       "(1, 13, 301, 1)"
      ]
     },
     "execution_count": 27,
     "metadata": {},
     "output_type": "execute_result"
    }
   ],
   "source": [
    "import keras\n",
    "keras.__version__\n",
    "import csv\n",
    "from keras.preprocessing import image\n",
    "import matplotlib.pyplot as plt\n",
    "import numpy as np\n",
    "from keras import models\n",
    "from keras import layers\n",
    "\n",
    "\n",
    "\n",
    "csvfile=open('C:/git/cropped/result.txt');\n",
    "reader = csv.DictReader(csvfile)\n",
    "\n",
    "image_array  = np.empty([])\n",
    "image_labels=np.empty((1))\n",
    "\n",
    "img = image.load_img('C:/git/cropped/sample1.jpg',grayscale=True)  # this is a PIL image\n",
    "image_array_size = image.img_to_array(img)  # this is a Numpy array with shape (3, 150, 150)\n",
    "image_array_size= image_array_size.reshape((1,) + image_array_size.shape)  # this is a Numpy array with shape (1, 3, 150, 150)\n",
    "image_array=np.empty(image_array_size.shape)\n",
    "image_array_size.shape\n"
   ]
  },
  {
   "cell_type": "code",
   "execution_count": null,
   "metadata": {},
   "outputs": [],
   "source": []
  },
  {
   "cell_type": "code",
   "execution_count": 28,
   "metadata": {},
   "outputs": [
    {
     "data": {
      "text/plain": [
       "'2.1.4'"
      ]
     },
     "execution_count": 28,
     "metadata": {},
     "output_type": "execute_result"
    }
   ],
   "source": [
    "import keras\n",
    "keras.__version__"
   ]
  },
  {
   "cell_type": "code",
   "execution_count": 29,
   "metadata": {},
   "outputs": [],
   "source": [
    "next(reader)\n",
    "for row in reader:\n",
    "  #  print(row['x'], row['y'],row['filePath'])\n",
    "    img=image.load_img(row['filePath'],grayscale=True)\n",
    "    x_value=row['x']\n",
    "    image_array= np.append(image_array,[image.img_to_array(img)],axis=0)\n",
    "    image_labels=np.append(image_labels,x_value)\n",
    "    #x = np.append(x, )\n",
    "\n"
   ]
  },
  {
   "cell_type": "code",
   "execution_count": 30,
   "metadata": {},
   "outputs": [
    {
     "data": {
      "text/plain": [
       "(474, 13, 301, 1)"
      ]
     },
     "execution_count": 30,
     "metadata": {},
     "output_type": "execute_result"
    }
   ],
   "source": [
    "#np.squeeze(image_array, axis=3).shape\n",
    "image_array.shape"
   ]
  },
  {
   "cell_type": "code",
   "execution_count": 31,
   "metadata": {},
   "outputs": [
    {
     "data": {
      "text/plain": [
       "(474,)"
      ]
     },
     "execution_count": 31,
     "metadata": {},
     "output_type": "execute_result"
    }
   ],
   "source": [
    "image_labels.shape"
   ]
  },
  {
   "cell_type": "code",
   "execution_count": 32,
   "metadata": {},
   "outputs": [
    {
     "data": {
      "text/plain": [
       "<bound method Container.summary of <keras.models.Sequential object at 0x00000241C12FCF98>>"
      ]
     },
     "execution_count": 32,
     "metadata": {},
     "output_type": "execute_result"
    }
   ],
   "source": [
    "from keras import models\n",
    "from keras import layers\n",
    "from keras.optimizers import RMSprop, Adam, Adadelta\n",
    "from keras.layers.core import Dense, Dropout, Activation, Flatten\n",
    "\n",
    "network = models.Sequential()\n",
    "nb_filters = 32\n",
    "nb_conv=5\n",
    "\n",
    "network.add(keras.layers.Conv2D(nb_filters, kernel_size=(nb_conv, nb_conv), activation='relu',data_format='channels_last',\n",
    "                        input_shape=(13, 301, 1), padding=\"same\" ) )\n",
    "\n",
    "network.add(keras.layers.Conv2D(nb_filters, kernel_size=(nb_conv, nb_conv), activation='relu',data_format='channels_last',\n",
    "                     padding=\"same\" ) )\n",
    "network.add(keras.layers.Conv2D(nb_filters, kernel_size=(nb_conv, nb_conv), activation='relu',data_format='channels_last',\n",
    "                        padding=\"same\" ) )\n",
    "network.add(keras.layers.Conv2D(nb_filters, kernel_size=(nb_conv, nb_conv), activation='relu',data_format='channels_last',\n",
    "                         padding=\"same\" ) )\n",
    "network.add(keras.layers.Conv2D(nb_filters, kernel_size=(nb_conv, nb_conv), activation='relu',data_format='channels_last',\n",
    "                        padding=\"same\" ) )\n",
    "\n",
    "\n",
    "\n",
    "network.add(keras.layers.core.Dropout(0.25))\n",
    "\n",
    "\n",
    "network.add(keras.layers.Conv2D(nb_filters*2, kernel_size=(nb_conv, nb_conv), activation='relu',data_format='channels_last',\n",
    "                        padding=\"same\" ) )\n",
    "network.add(keras.layers.Conv2D(nb_filters*2, kernel_size=(nb_conv, nb_conv), activation='relu',data_format='channels_last',\n",
    "                        padding=\"same\" ) )\n",
    "network.add(keras.layers.Conv2D(nb_filters*2, kernel_size=(nb_conv, nb_conv), activation='relu',data_format='channels_last',\n",
    "                        padding=\"same\" ) )\n",
    "network.add(keras.layers.Conv2D(nb_filters*2, kernel_size=(nb_conv, nb_conv), activation='relu',data_format='channels_last',\n",
    "                        padding=\"same\" ) )\n",
    "\n",
    "\n",
    "network.add(keras.layers.core.Dropout(0.5))\n",
    "\n",
    "\n",
    "\n",
    "network.add(Flatten())\n",
    "network.add(Dense(256))\n",
    "network.add(Activation('relu'))\n",
    "network.add(keras.layers.core.Dropout(0.5))\n",
    "\n",
    "network.add(Dense(128))\n",
    "network.add(Activation('relu'))\n",
    "network.add(keras.layers.core.Dropout(0.5))\n",
    "\n",
    "network.add(Dense(1))\n",
    "network.add(Activation('linear'))\n",
    "\n",
    "network.compile(loss='mean_squared_error', optimizer=Adadelta())\n",
    "network.summary"
   ]
  },
  {
   "cell_type": "code",
   "execution_count": 33,
   "metadata": {},
   "outputs": [
    {
     "data": {
      "text/plain": [
       "(317, 13, 301, 1)"
      ]
     },
     "execution_count": 33,
     "metadata": {},
     "output_type": "execute_result"
    }
   ],
   "source": [
    " from sklearn.model_selection import train_test_split\n",
    "X_train, X_test, y_train, y_test = train_test_split(image_array, image_labels, test_size=0.33, random_state=42)\n",
    "X_train.shape\n"
   ]
  },
  {
   "cell_type": "code",
   "execution_count": 34,
   "metadata": {},
   "outputs": [
    {
     "name": "stdout",
     "output_type": "stream",
     "text": [
      "Epoch 1/5\n",
      "317/317 [==============================] - 6s 20ms/step - loss: 1952958.7525\n",
      "Epoch 2/5\n",
      "317/317 [==============================] - 4s 13ms/step - loss: 2712972.5683\n",
      "Epoch 3/5\n",
      "317/317 [==============================] - 4s 13ms/step - loss: 28065.1405\n",
      "Epoch 4/5\n",
      "317/317 [==============================] - 4s 12ms/step - loss: 994646.9671\n",
      "Epoch 5/5\n",
      "317/317 [==============================] - 4s 13ms/step - loss: 27103.3460\n"
     ]
    },
    {
     "data": {
      "text/plain": [
       "<keras.callbacks.History at 0x241c127de10>"
      ]
     },
     "execution_count": 34,
     "metadata": {},
     "output_type": "execute_result"
    }
   ],
   "source": [
    "\n",
    "\n",
    "network.fit(X_train,y_train, epochs=5, batch_size=32)"
   ]
  },
  {
   "cell_type": "code",
   "execution_count": 35,
   "metadata": {},
   "outputs": [
    {
     "name": "stdout",
     "output_type": "stream",
     "text": [
      "157/157 [==============================] - 1s 5ms/step\n"
     ]
    }
   ],
   "source": [
    "predictions_valid = network.predict(X_test, batch_size=32, verbose=1)\n"
   ]
  },
  {
   "cell_type": "code",
   "execution_count": 36,
   "metadata": {},
   "outputs": [
    {
     "data": {
      "text/plain": [
       "(157,)"
      ]
     },
     "execution_count": 36,
     "metadata": {},
     "output_type": "execute_result"
    }
   ],
   "source": [
    "y_test.shape"
   ]
  },
  {
   "cell_type": "code",
   "execution_count": 38,
   "metadata": {},
   "outputs": [],
   "source": [
    "import pandas as pd\n",
    "compare = pd.DataFrame(data={'original':y_test.reshape((len(y_test),)),'prediction':predictions_valid.reshape((len(y_test),))})\n",
    "compare.to_csv('C:/git/cropped/compare2.csv')\n"
   ]
  },
  {
   "cell_type": "code",
   "execution_count": null,
   "metadata": {},
   "outputs": [],
   "source": []
  }
 ],
 "metadata": {
  "kernelspec": {
   "display_name": "Python [default]",
   "language": "python",
   "name": "python3"
  },
  "language_info": {
   "codemirror_mode": {
    "name": "ipython",
    "version": 3
   },
   "file_extension": ".py",
   "mimetype": "text/x-python",
   "name": "python",
   "nbconvert_exporter": "python",
   "pygments_lexer": "ipython3",
   "version": "3.6.4"
  }
 },
 "nbformat": 4,
 "nbformat_minor": 1
}
