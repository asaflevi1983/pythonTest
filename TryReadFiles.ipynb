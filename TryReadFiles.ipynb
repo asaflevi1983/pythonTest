{
 "cells": [
  {
   "cell_type": "code",
   "execution_count": 1,
   "metadata": {
    "scrolled": true
   },
   "outputs": [
    {
     "name": "stderr",
     "output_type": "stream",
     "text": [
      "Using TensorFlow backend.\n"
     ]
    },
    {
     "ename": "FileNotFoundError",
     "evalue": "[Errno 2] No such file or directory: 'C:/git/cropped/result.txt'",
     "output_type": "error",
     "traceback": [
      "\u001b[1;31m---------------------------------------------------------------------------\u001b[0m",
      "\u001b[1;31mFileNotFoundError\u001b[0m                         Traceback (most recent call last)",
      "\u001b[1;32m<ipython-input-1-ac6dee72d060>\u001b[0m in \u001b[0;36m<module>\u001b[1;34m()\u001b[0m\n\u001b[0;32m     10\u001b[0m \u001b[1;33m\u001b[0m\u001b[0m\n\u001b[0;32m     11\u001b[0m \u001b[1;33m\u001b[0m\u001b[0m\n\u001b[1;32m---> 12\u001b[1;33m \u001b[0mcsvfile\u001b[0m\u001b[1;33m=\u001b[0m\u001b[0mopen\u001b[0m\u001b[1;33m(\u001b[0m\u001b[1;34m'C:/git/cropped/result.txt'\u001b[0m\u001b[1;33m)\u001b[0m\u001b[1;33m;\u001b[0m\u001b[1;33m\u001b[0m\u001b[0m\n\u001b[0m\u001b[0;32m     13\u001b[0m \u001b[0mreader\u001b[0m \u001b[1;33m=\u001b[0m \u001b[0mcsv\u001b[0m\u001b[1;33m.\u001b[0m\u001b[0mDictReader\u001b[0m\u001b[1;33m(\u001b[0m\u001b[0mcsvfile\u001b[0m\u001b[1;33m)\u001b[0m\u001b[1;33m\u001b[0m\u001b[0m\n\u001b[0;32m     14\u001b[0m \u001b[1;33m\u001b[0m\u001b[0m\n",
      "\u001b[1;31mFileNotFoundError\u001b[0m: [Errno 2] No such file or directory: 'C:/git/cropped/result.txt'"
     ]
    }
   ],
   "source": [
    "import keras\n",
    "keras.__version__\n",
    "import csv\n",
    "from keras.preprocessing import image\n",
    "import matplotlib.pyplot as plt\n",
    "import numpy as np\n",
    "from keras import models\n",
    "from keras import layers\n",
    "\n",
    "\n",
    "\n",
    "csvfile=open('C:/git/cropped/result.csv');\n",
    "reader = csv.DictReader(csvfile)\n",
    "\n",
    "image_array  = np.empty([])\n",
    "image_labels=np.empty((1))\n",
    "\n",
    "img = image.load_img('C:/git/cropped/sample1.jpg',grayscale=True)  # this is a PIL image\n",
    "image_array_size = image.img_to_array(img)  # this is a Numpy array with shape (3, 150, 150)\n",
    "image_array_size= image_array_size.reshape((1,) + image_array_size.shape)  # this is a Numpy array with shape (1, 3, 150, 150)\n",
    "image_array=np.empty(image_array_size.shape)\n",
    "image_array_size.shape\n"
   ]
  },
  {
   "cell_type": "code",
   "execution_count": null,
   "metadata": {},
   "outputs": [],
   "source": []
  },
  {
   "cell_type": "code",
   "execution_count": null,
   "metadata": {},
   "outputs": [],
   "source": [
    "import keras\n",
    "keras.__version__"
   ]
  },
  {
   "cell_type": "code",
   "execution_count": null,
   "metadata": {},
   "outputs": [],
   "source": [
    "next(reader)\n",
    "for row in reader:\n",
    "  #  print(row['x'], row['y'],row['filePath'])\n",
    "    img=image.load_img(row['filePath'],grayscale=True)\n",
    "    x_value=row['x']\n",
    "    image_array= np.append(image_array,[image.img_to_array(img)],axis=0)\n",
    "    image_labels=np.append(image_labels,x_value)\n",
    "    #x = np.append(x, )\n",
    "\n"
   ]
  },
  {
   "cell_type": "code",
   "execution_count": null,
   "metadata": {},
   "outputs": [],
   "source": [
    "#np.squeeze(image_array, axis=3).shape\n",
    "image_array.shape"
   ]
  },
  {
   "cell_type": "code",
   "execution_count": null,
   "metadata": {},
   "outputs": [],
   "source": [
    "image_labels.shape"
   ]
  },
  {
   "cell_type": "code",
   "execution_count": null,
   "metadata": {},
   "outputs": [],
   "source": [
    "from keras import models\n",
    "from keras import layers\n",
    "from keras.optimizers import RMSprop, Adam, Adadelta\n",
    "from keras.layers.core import Dense, Dropout, Activation, Flatten\n",
    "\n",
    "network = models.Sequential()\n",
    "nb_filters = 64\n",
    "nb_conv=3\n",
    "\n",
    "network.add(keras.layers.Conv2D(nb_filters, kernel_size=(nb_conv, nb_conv), activation='relu',data_format='channels_last',\n",
    "                        input_shape=(13, 301, 1), padding=\"same\" ) )\n",
    "\n",
    "network.add(keras.layers.Conv2D(nb_filters, kernel_size=(nb_conv, nb_conv), activation='relu',data_format='channels_last',\n",
    "                    padding=\"same\" ) )\n",
    "network.add(keras.layers.Conv2D(nb_filters, kernel_size=(nb_conv, nb_conv), activation='relu',data_format='channels_last',\n",
    "                        padding=\"same\" ) )\n",
    "network.add(keras.layers.Conv2D(nb_filters, kernel_size=(nb_conv, nb_conv), activation='relu',data_format='channels_last',\n",
    "                         padding=\"same\" ) )\n",
    "network.add(keras.layers.Conv2D(nb_filters, kernel_size=(nb_conv, nb_conv), activation='relu',data_format='channels_last',\n",
    "                        padding=\"same\" ) )\n",
    "\n",
    "\n",
    "\n",
    "network.add(keras.layers.core.Dropout(0.25))\n",
    "\n",
    "\n",
    "network.add(keras.layers.Conv2D(nb_filters*2, kernel_size=(nb_conv, nb_conv), activation='relu',data_format='channels_last',\n",
    "                        padding=\"same\" ) )\n",
    "network.add(keras.layers.Conv2D(nb_filters*2, kernel_size=(nb_conv, nb_conv), activation='relu',data_format='channels_last',\n",
    "                        padding=\"same\" ) )\n",
    "network.add(keras.layers.Conv2D(nb_filters*2, kernel_size=(nb_conv, nb_conv), activation='relu',data_format='channels_last',\n",
    "                        padding=\"same\" ) )\n",
    "network.add(keras.layers.Conv2D(nb_filters*2, kernel_size=(nb_conv, nb_conv), activation='relu',data_format='channels_last',\n",
    "                        padding=\"same\" ) )\n",
    "\n",
    "\n",
    "network.add(keras.layers.core.Dropout(0.5))\n",
    "\n",
    "\n",
    "\n",
    "network.add(Flatten())\n",
    "network.add(Dense(256, activation='relu'))\n",
    "\n",
    "network.add(keras.layers.core.Dropout(0.5))\n",
    "network.add(Dense(128, activation='relu'))\n",
    "\n",
    "network.add(keras.layers.core.Dropout(0.5))\n",
    "network.add(Dense(1, activation='linear'))\n",
    "\n",
    "\n",
    "network.compile(loss='mean_squared_error', optimizer=Adadelta())\n",
    "network.summary"
   ]
  },
  {
   "cell_type": "code",
   "execution_count": null,
   "metadata": {},
   "outputs": [],
   "source": [
    "network.summary"
   ]
  },
  {
   "cell_type": "code",
   "execution_count": null,
   "metadata": {},
   "outputs": [],
   "source": [
    " from sklearn.model_selection import train_test_split\n",
    "image_array = image_array.astype('float32') / 255\n",
    "X_train, X_test, y_train, y_test = train_test_split(image_array, image_labels, test_size=0.1, random_state=42)\n",
    "X_train.shape\n"
   ]
  },
  {
   "cell_type": "code",
   "execution_count": null,
   "metadata": {
    "scrolled": true
   },
   "outputs": [],
   "source": [
    "\n",
    "\n",
    "network.fit(X_train,y_train, epochs=25, batch_size=150)"
   ]
  },
  {
   "cell_type": "code",
   "execution_count": null,
   "metadata": {},
   "outputs": [],
   "source": [
    "predictions_valid = network.predict(X_test, batch_size=5, verbose=1)\n"
   ]
  },
  {
   "cell_type": "code",
   "execution_count": null,
   "metadata": {},
   "outputs": [],
   "source": [
    "y_test.shape"
   ]
  },
  {
   "cell_type": "code",
   "execution_count": null,
   "metadata": {},
   "outputs": [],
   "source": [
    "import pandas as pd\n",
    "compare = pd.DataFrame(data={'original':y_test.reshape((len(y_test),)),'prediction':predictions_valid.reshape((len(y_test),))})\n",
    "compare.to_csv('C:/git/cropped/compare5.csv')\n"
   ]
  },
  {
   "cell_type": "code",
   "execution_count": null,
   "metadata": {},
   "outputs": [],
   "source": [
    "\n",
    "predictions_valid = network.predict(X_train, batch_size=32, verbose=1)\n",
    "\n",
    "import pandas as pd\n",
    "compare = pd.DataFrame(data={'original':y_train.reshape((len(X_train),)),'prediction':predictions_valid.reshape((len(X_train),))})\n",
    "compare.to_csv('C:/git/cropped/compare5-train.csv')"
   ]
  },
  {
   "cell_type": "code",
   "execution_count": null,
   "metadata": {},
   "outputs": [],
   "source": [
    "max(y_train)"
   ]
  },
  {
   "cell_type": "code",
   "execution_count": null,
   "metadata": {},
   "outputs": [],
   "source": [
    "max(y_test)"
   ]
  },
  {
   "cell_type": "code",
   "execution_count": null,
   "metadata": {},
   "outputs": [],
   "source": []
  }
 ],
 "metadata": {
  "kernelspec": {
   "display_name": "Python [default]",
   "language": "python",
   "name": "python3"
  },
  "language_info": {
   "codemirror_mode": {
    "name": "ipython",
    "version": 3
   },
   "file_extension": ".py",
   "mimetype": "text/x-python",
   "name": "python",
   "nbconvert_exporter": "python",
   "pygments_lexer": "ipython3",
   "version": "3.6.4"
  }
 },
 "nbformat": 4,
 "nbformat_minor": 1
}
