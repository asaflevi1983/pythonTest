{
 "cells": [
  {
   "cell_type": "code",
   "execution_count": 1,
   "metadata": {
    "scrolled": true
   },
   "outputs": [
    {
     "name": "stderr",
     "output_type": "stream",
     "text": [
      "Using TensorFlow backend.\n"
     ]
    },
    {
     "data": {
      "text/plain": [
       "(1, 13, 301, 1)"
      ]
     },
     "execution_count": 1,
     "metadata": {},
     "output_type": "execute_result"
    }
   ],
   "source": [
    "import keras\n",
    "keras.__version__\n",
    "import csv\n",
    "from keras.preprocessing import image\n",
    "import matplotlib.pyplot as plt\n",
    "import numpy as np\n",
    "from keras import models\n",
    "from keras import layers\n",
    "import pandas as pd\n",
    "from time import gmtime, strftime\n",
    "\n",
    "\n",
    "csvfile=open('C:/git/cropped/result.csv');\n",
    "reader = csv.DictReader(csvfile)\n",
    "\n",
    "image_array  = np.empty([])\n",
    "image_labels=np.empty((1))\n",
    "\n",
    "img = image.load_img('C:/git/cropped/sample1.jpg',grayscale=True)  # this is a PIL image\n",
    "image_array_size = image.img_to_array(img)  # this is a Numpy array with shape (3, 150, 150)\n",
    "image_array_size= image_array_size.reshape((1,) + image_array_size.shape)  # this is a Numpy array with shape (1, 3, 150, 150)\n",
    "image_array=np.empty(image_array_size.shape)\n",
    "image_array_size.shape\n"
   ]
  },
  {
   "cell_type": "code",
   "execution_count": null,
   "metadata": {},
   "outputs": [],
   "source": []
  },
  {
   "cell_type": "code",
   "execution_count": 2,
   "metadata": {},
   "outputs": [
    {
     "data": {
      "text/plain": [
       "'2.1.4'"
      ]
     },
     "execution_count": 2,
     "metadata": {},
     "output_type": "execute_result"
    }
   ],
   "source": [
    "import keras\n",
    "keras.__version__"
   ]
  },
  {
   "cell_type": "code",
   "execution_count": 3,
   "metadata": {},
   "outputs": [],
   "source": [
    "next(reader)\n",
    "for row in reader:\n",
    "  #  print(row['x'], row['y'],row['filePath'])\n",
    "    img=image.load_img(row['filePath'],grayscale=True)\n",
    "    x_value=row['x']\n",
    "    image_array= np.append(image_array,[image.img_to_array(img)],axis=0)\n",
    "    image_labels=np.append(image_labels,x_value)\n",
    "    #x = np.append(x, )\n",
    "\n"
   ]
  },
  {
   "cell_type": "code",
   "execution_count": 4,
   "metadata": {},
   "outputs": [
    {
     "data": {
      "text/plain": [
       "(474, 13, 301, 1)"
      ]
     },
     "execution_count": 4,
     "metadata": {},
     "output_type": "execute_result"
    }
   ],
   "source": [
    "#np.squeeze(image_array, axis=3).shape\n",
    "image_array.shape"
   ]
  },
  {
   "cell_type": "code",
   "execution_count": 5,
   "metadata": {},
   "outputs": [
    {
     "data": {
      "text/plain": [
       "(474,)"
      ]
     },
     "execution_count": 5,
     "metadata": {},
     "output_type": "execute_result"
    }
   ],
   "source": [
    "image_labels.shape"
   ]
  },
  {
   "cell_type": "code",
   "execution_count": 32,
   "metadata": {},
   "outputs": [
    {
     "data": {
      "text/plain": [
       "'99.226677'"
      ]
     },
     "execution_count": 32,
     "metadata": {},
     "output_type": "execute_result"
    },
    {
     "data": {
      "image/png": "[encoded data removed]",
      "text/plain": [
       "<matplotlib.figure.Figure at 0x2212d2982b0>"
      ]
     },
     "metadata": {},
     "output_type": "display_data"
    }
   ],
   "source": [
    "plt.imshow(np.squeeze(image_array[3], axis=2))\n",
    "image_labels[3]"
   ]
  },
  {
   "cell_type": "code",
   "execution_count": 33,
   "metadata": {},
   "outputs": [
    {
     "data": {
      "text/plain": [
       "'152.385468'"
      ]
     },
     "execution_count": 33,
     "metadata": {},
     "output_type": "execute_result"
    },
    {
     "data": {
      "image/png": "[encoded data removed]",
      "text/plain": [
       "<matplotlib.figure.Figure at 0x22130734e10>"
      ]
     },
     "metadata": {},
     "output_type": "display_data"
    }
   ],
   "source": [
    "plt.imshow(np.squeeze(image_array[4], axis=2))\n",
    "image_labels[4]"
   ]
  },
  {
   "cell_type": "code",
   "execution_count": 34,
   "metadata": {},
   "outputs": [
    {
     "data": {
      "text/plain": [
       "'107.566246'"
      ]
     },
     "execution_count": 34,
     "metadata": {},
     "output_type": "execute_result"
    },
    {
     "data": {
      "image/png": "[encoded data removed]",
      "text/plain": [
       "<matplotlib.figure.Figure at 0x22130789898>"
      ]
     },
     "metadata": {},
     "output_type": "display_data"
    }
   ],
   "source": [
    "plt.imshow(np.squeeze(image_array[5], axis=2))\n",
    "image_labels[5]"
   ]
  },
  {
   "cell_type": "code",
   "execution_count": 35,
   "metadata": {},
   "outputs": [
    {
     "data": {
      "text/plain": [
       "'160.122116'"
      ]
     },
     "execution_count": 35,
     "metadata": {},
     "output_type": "execute_result"
    },
    {
     "data": {
      "image/png": "[encoded data removed]",
      "text/plain": [
       "<matplotlib.figure.Figure at 0x22134af0d30>"
      ]
     },
     "metadata": {},
     "output_type": "display_data"
    }
   ],
   "source": [
    "plt.imshow(np.squeeze(image_array[6], axis=2))\n",
    "image_labels[6]"
   ]
  },
  {
   "cell_type": "code",
   "execution_count": 10,
   "metadata": {},
   "outputs": [
    {
     "data": {
      "text/plain": [
       "(13, 301, 1)"
      ]
     },
     "execution_count": 10,
     "metadata": {},
     "output_type": "execute_result"
    }
   ],
   "source": [
    "image_array[3].shape"
   ]
  },
  {
   "cell_type": "code",
   "execution_count": 11,
   "metadata": {},
   "outputs": [
    {
     "data": {
      "text/plain": [
       "'99.226677'"
      ]
     },
     "execution_count": 11,
     "metadata": {},
     "output_type": "execute_result"
    }
   ],
   "source": [
    "image_labels[3]"
   ]
  },
  {
   "cell_type": "code",
   "execution_count": 12,
   "metadata": {},
   "outputs": [],
   "source": [
    "from keras import models\n",
    "from keras import layers\n",
    "from keras.optimizers import RMSprop, Adam, Adadelta\n",
    "from keras.layers.core import Dense, Dropout, Activation, Flatten\n",
    "\n",
    "network = models.Sequential()\n",
    "nb_filters = 64\n",
    "nb_conv=3\n",
    "\n",
    "network.add(keras.layers.Conv2D(nb_filters, kernel_size=(nb_conv, nb_conv), activation='relu',data_format='channels_last',\n",
    "                        input_shape=(13, 301, 1), padding=\"same\" ) )\n",
    "\n",
    "#network.add(keras.layers.Conv2D(nb_filters, kernel_size=(nb_conv, nb_conv), activation='relu',data_format='channels_last',\n",
    " #                   padding=\"same\" ) )\n",
    "#network.add(keras.layers.Conv2D(nb_filters, kernel_size=(nb_conv, nb_conv), activation='relu',data_format='channels_last',\n",
    "#                        padding=\"same\" ) )\n",
    "network.add(keras.layers.Conv2D(nb_filters, kernel_size=(nb_conv, nb_conv), activation='relu',data_format='channels_last',\n",
    "                         padding=\"same\" ) )\n",
    "network.add(keras.layers.Conv2D(nb_filters, kernel_size=(nb_conv, nb_conv), activation='relu',data_format='channels_last',\n",
    "                        padding=\"same\" ) )\n",
    "\n",
    "\n",
    "\n",
    "#network.add(keras.layers.core.Dropout(0.25))\n",
    "\n",
    "\n",
    "#network.add(keras.layers.Conv2D(nb_filters*2, kernel_size=(nb_conv, nb_conv), activation='relu',data_format='channels_last',\n",
    "#                        padding=\"same\" ) )\n",
    "#network.add(keras.layers.Conv2D(nb_filters*2, kernel_size=(nb_conv, nb_conv), activation='relu',data_format='channels_last',\n",
    "#                        padding=\"same\" ) )\n",
    "network.add(keras.layers.Conv2D(nb_filters*2, kernel_size=(nb_conv, nb_conv), activation='relu',data_format='channels_last',\n",
    "                        padding=\"same\" ) )\n",
    "network.add(keras.layers.Conv2D(nb_filters*2, kernel_size=(nb_conv, nb_conv), activation='relu',data_format='channels_last',\n",
    "                        padding=\"same\" ) )\n",
    "\n",
    "\n",
    "#network.add(keras.layers.core.Dropout(0.5))\n",
    "\n",
    "\n",
    "\n",
    "network.add(Flatten())\n",
    "network.add(Dense(256, activation='relu'))\n",
    "\n",
    "#network.add(keras.layers.core.Dropout(0.5))\n",
    "network.add(Dense(128, activation='linear'))\n",
    "\n",
    "#network.add(keras.layers.core.Dropout(0.5))\n",
    "network.add(Dense(1, activation='linear'))\n",
    "\n",
    "\n",
    "network.compile(loss='mean_squared_error', optimizer=Adadelta())\n"
   ]
  },
  {
   "cell_type": "code",
   "execution_count": 13,
   "metadata": {},
   "outputs": [
    {
     "name": "stdout",
     "output_type": "stream",
     "text": [
      "_________________________________________________________________\n",
      "Layer (type)                 Output Shape              Param #   \n",
      "=================================================================\n",
      "conv2d_1 (Conv2D)            (None, 13, 301, 64)       640       \n",
      "_________________________________________________________________\n",
      "conv2d_2 (Conv2D)            (None, 13, 301, 64)       36928     \n",
      "_________________________________________________________________\n",
      "conv2d_3 (Conv2D)            (None, 13, 301, 64)       36928     \n",
      "_________________________________________________________________\n",
      "conv2d_4 (Conv2D)            (None, 13, 301, 128)      73856     \n",
      "_________________________________________________________________\n",
      "conv2d_5 (Conv2D)            (None, 13, 301, 128)      147584    \n",
      "_________________________________________________________________\n",
      "flatten_1 (Flatten)          (None, 500864)            0         \n",
      "_________________________________________________________________\n",
      "dense_1 (Dense)              (None, 256)               128221440 \n",
      "_________________________________________________________________\n",
      "dense_2 (Dense)              (None, 128)               32896     \n",
      "_________________________________________________________________\n",
      "dense_3 (Dense)              (None, 1)                 129       \n",
      "=================================================================\n",
      "Total params: 128,550,401\n",
      "Trainable params: 128,550,401\n",
      "Non-trainable params: 0\n",
      "_________________________________________________________________\n"
     ]
    }
   ],
   "source": [
    "network.summary()"
   ]
  },
  {
   "cell_type": "code",
   "execution_count": 14,
   "metadata": {},
   "outputs": [
    {
     "data": {
      "text/plain": [
       "(426, 13, 301, 1)"
      ]
     },
     "execution_count": 14,
     "metadata": {},
     "output_type": "execute_result"
    }
   ],
   "source": [
    " from sklearn.model_selection import train_test_split\n",
    "image_array = image_array.astype('float32') / 255\n",
    "X_train, X_test, y_train, y_test = train_test_split(image_array, image_labels, test_size=0.1, random_state=42)\n",
    "X_train.shape\n"
   ]
  },
  {
   "cell_type": "code",
   "execution_count": 15,
   "metadata": {
    "scrolled": true
   },
   "outputs": [
    {
     "name": "stdout",
     "output_type": "stream",
     "text": [
      "Train on 383 samples, validate on 43 samples\n",
      "Epoch 1/5\n",
      "383/383 [==============================] - 22s 57ms/step - loss: 13881.5798 - val_loss: 1085.4236\n",
      "Epoch 2/5\n",
      "383/383 [==============================] - 19s 48ms/step - loss: 1304.3128 - val_loss: 948.5345\n",
      "Epoch 3/5\n",
      "383/383 [==============================] - 19s 48ms/step - loss: 1040.4444 - val_loss: 373.9536\n",
      "Epoch 4/5\n",
      "383/383 [==============================] - 19s 48ms/step - loss: 462.1124 - val_loss: 26.7309\n",
      "Epoch 5/5\n",
      "383/383 [==============================] - 19s 48ms/step - loss: 526.2908 - val_loss: 28.9214\n"
     ]
    }
   ],
   "source": [
    "\n",
    "\n",
    "history=network.fit(X_train,y_train, epochs=5, batch_size=5,validation_split=0.1)"
   ]
  },
  {
   "cell_type": "code",
   "execution_count": 22,
   "metadata": {},
   "outputs": [
    {
     "name": "stdout",
     "output_type": "stream",
     "text": [
      "48/48 [==============================] - 0s 4ms/step\n",
      "426/426 [==============================] - 1s 2ms/step\n"
     ]
    }
   ],
   "source": [
    "predictions_test = network.predict(X_test, batch_size=5, verbose=1)\n",
    "predictions_train = network.predict(X_train, batch_size=32, verbose=1)\n"
   ]
  },
  {
   "cell_type": "code",
   "execution_count": 23,
   "metadata": {},
   "outputs": [],
   "source": [
    "prediction_test_score_values=np.absolute(np.subtract(y_test.astype('float32'),np.squeeze(predictions_test)))\n",
    "prediction_train_score_values=np.absolute(np.subtract(y_train.astype('float32'),np.squeeze(predictions_train)))\n",
    "prediction_test_score= np.average(prediction_test_score_values) \n",
    "prediction_train_score= np.average(prediction_train_score_values) "
   ]
  },
  {
   "cell_type": "code",
   "execution_count": 24,
   "metadata": {
    "scrolled": true
   },
   "outputs": [
    {
     "name": "stdout",
     "output_type": "stream",
     "text": [
      "test score: 6.36311\n",
      "train score: 4.4201\n"
     ]
    }
   ],
   "source": [
    "print ('test score:',prediction_test_score)\n",
    "print ('train score:',prediction_train_score)\n"
   ]
  },
  {
   "cell_type": "code",
   "execution_count": 25,
   "metadata": {},
   "outputs": [],
   "source": [
    "compare = pd.DataFrame(data={'original':y_test.reshape((len(y_test),)),'prediction':predictions_test.reshape((len(y_test),))})\n",
    "compare.to_csv('C:/git/cropped/compare-test'+strftime(\"%H_%M_%S\", gmtime())+'.csv')\n",
    "compare = pd.DataFrame(data={'original':y_train.reshape((len(X_train),)),'prediction':predictions_train.reshape((len(X_train),))})\n",
    "compare.to_csv('C:/git/cropped/compare-train'+strftime(\"%H_%M_%S\", gmtime())+'.csv');"
   ]
  },
  {
   "cell_type": "code",
   "execution_count": 31,
   "metadata": {},
   "outputs": [
    {
     "data": {
      "image/png": "[encoded data removed]",
      "text/plain": [
       "<matplotlib.figure.Figure at 0x2212d27c358>"
      ]
     },
     "metadata": {},
     "output_type": "display_data"
    }
   ],
   "source": [
    "import scipy.stats as stats\n",
    "h=prediction_train_score_values\n",
    "#fit = stats.norm.pdf(h, np.mean(h), np.std(h))  #this is a fitting indeed\n",
    "#plt.plot(h,'-o')\n",
    "plt.hist(h,normed=True)      #use this to draw histogram of your data\n",
    "plt.show()"
   ]
  },
  {
   "cell_type": "code",
   "execution_count": 6,
   "metadata": {},
   "outputs": [
    {
     "name": "stderr",
     "output_type": "stream",
     "text": [
      "C:\\Anaconda\\lib\\site-packages\\urllib3\\connectionpool.py:858: InsecureRequestWarning: Unverified HTTPS request is being made. Adding certificate verification is strongly advised. See: https://urllib3.readthedocs.io/en/latest/advanced-usage.html#ssl-warnings\n",
      "  InsecureRequestWarning)\n"
     ]
    }
   ],
   "source": [
    "# Reading json data from url\n",
    "import requests\n",
    "import pandas\n",
    "data = requests.get(\"https://34.240.232.82/api/PrintbeatService/whisperContent/lastRequests\"\n",
    "                  ,verify=False).json()\n",
    "\n"
   ]
  },
  {
   "cell_type": "code",
   "execution_count": 7,
   "metadata": {},
   "outputs": [
    {
     "data": {
      "text/plain": [
       "{'element': '1',\n",
       " 'id': 347,\n",
       " 'phone_model': 'Samsung SM-G930F',\n",
       " 'result_url': 'https://34.240.232.82/results_sample_2018-03-29T13:02:45.283Z_1__testing_app._ignore._.txt',\n",
       " 'test_reason': 'system ok, testing application ',\n",
       " 'test_reason_comments': '_testing app. ignore.',\n",
       " 'test_result_comments': None,\n",
       " 'time': '2018-03-29T13:02:52.000Z',\n",
       " 'wave_url': 'https://34.240.232.82/sample_2018-03-29T13:02:45.283Z_1__testing_app._ignore._.wav'}"
      ]
     },
     "execution_count": 7,
     "metadata": {},
     "output_type": "execute_result"
    }
   ],
   "source": [
    "# printing first element\n",
    "\n",
    "data[0]"
   ]
  },
  {
   "cell_type": "code",
   "execution_count": 9,
   "metadata": {},
   "outputs": [
    {
     "data": {
      "text/plain": [
       "'https://34.240.232.82/sample_2018-03-29T13:02:45.283Z_1__testing_app._ignore._.wav'"
      ]
     },
     "execution_count": 9,
     "metadata": {},
     "output_type": "execute_result"
    }
   ],
   "source": [
    "# printing first record wav url \n",
    "\n",
    "data[0]['wave_url']"
   ]
  },
  {
   "cell_type": "code",
   "execution_count": 16,
   "metadata": {},
   "outputs": [],
   "source": [
    "# saving wav file \n",
    "\n",
    "import urllib\n",
    "import ssl\n",
    "\n",
    "context = ssl._create_unverified_context()\n",
    "\n",
    "f = urllib.request.urlopen(data[0]['wave_url'], context=context)\n",
    "data = f.read()\n",
    "with open(\"C:/git/cropped/table22.mp3\", \"wb\") as code:\n",
    "    code.write(data)\n"
   ]
  },
  {
   "cell_type": "code",
   "execution_count": 60,
   "metadata": {},
   "outputs": [],
   "source": [
    "# saving data into csv file \n",
    "import json\n",
    "import csv\n",
    "fieldnames = ['id', 'time','result_url', 'wave_url', 'element', 'phone_model', 'test_reason', 'test_result_comments', 'test_reason_comments']\n",
    "csvfile=open('C:/git/cropped/table22.csv', 'w')\n",
    "writer = csv.DictWriter(csvfile, fieldnames=fieldnames)\n",
    "writer.writeheader()\n",
    "for datain in data:\n",
    "    writer.writerow(datain)\n",
    "\n",
    "   "
   ]
  },
  {
   "cell_type": "code",
   "execution_count": null,
   "metadata": {},
   "outputs": [],
   "source": [
    "data."
   ]
  }
 ],
 "metadata": {
  "kernelspec": {
   "display_name": "Python [default]",
   "language": "python",
   "name": "python3"
  },
  "language_info": {
   "codemirror_mode": {
    "name": "ipython",
    "version": 3
   },
   "file_extension": ".py",
   "mimetype": "text/x-python",
   "name": "python",
   "nbconvert_exporter": "python",
   "pygments_lexer": "ipython3",
   "version": "3.6.4"
  }
 },
 "nbformat": 4,
 "nbformat_minor": 1
}
