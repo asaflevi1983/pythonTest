{
 "cells": [
  {
   "cell_type": "code",
   "execution_count": 7,
   "metadata": {},
   "outputs": [
    {
     "name": "stderr",
     "output_type": "stream",
     "text": [
      "C:\\Anaconda\\lib\\site-packages\\urllib3\\connectionpool.py:858: InsecureRequestWarning: Unverified HTTPS request is being made. Adding certificate verification is strongly advised. See: https://urllib3.readthedocs.io/en/latest/advanced-usage.html#ssl-warnings\n",
      "  InsecureRequestWarning)\n"
     ]
    }
   ],
   "source": [
    "# Reading json data from url\n",
    "import requests\n",
    "import pandas\n",
    "dataJson = requests.get(\"https://34.240.232.82/api/PrintbeatService/whisperContent/lastRequests\"\n",
    "                  ,verify=False).json()\n"
   ]
  },
  {
   "cell_type": "code",
   "execution_count": 8,
   "metadata": {},
   "outputs": [
    {
     "data": {
      "text/plain": [
       "{'element': '1',\n",
       " 'id': 347,\n",
       " 'phone_model': 'Samsung SM-G930F',\n",
       " 'result_url': 'https://34.240.232.82/results_sample_2018-03-29T13:02:45.283Z_1__testing_app._ignore._.txt',\n",
       " 'test_reason': 'system ok, testing application ',\n",
       " 'test_reason_comments': '_testing app. ignore.',\n",
       " 'test_result_comments': None,\n",
       " 'time': '2018-03-29T13:02:52.000Z',\n",
       " 'wave_url': 'https://34.240.232.82/sample_2018-03-29T13:02:45.283Z_1__testing_app._ignore._.wav'}"
      ]
     },
     "execution_count": 8,
     "metadata": {},
     "output_type": "execute_result"
    }
   ],
   "source": [
    "# printing first element\n",
    "\n",
    "dataJson[0]"
   ]
  },
  {
   "cell_type": "code",
   "execution_count": 9,
   "metadata": {},
   "outputs": [
    {
     "data": {
      "text/plain": [
       "'https://34.240.232.82/sample_2018-03-29T13:02:45.283Z_1__testing_app._ignore._.wav'"
      ]
     },
     "execution_count": 9,
     "metadata": {},
     "output_type": "execute_result"
    }
   ],
   "source": [
    "# printing first record wav url \n",
    "\n",
    "dataJson[0]['wave_url']"
   ]
  },
  {
   "cell_type": "code",
   "execution_count": 11,
   "metadata": {},
   "outputs": [],
   "source": [
    "# saving wav file \n",
    "\n",
    "import urllib\n",
    "import ssl\n",
    "\n",
    "context = ssl._create_unverified_context()\n",
    "\n",
    "f = urllib.request.urlopen(dataJson[0]['wave_url'], context=context)\n",
    "dataWav = f.read()\n",
    "with open(\"C:/git/cropped/table22.mp3\", \"wb\") as code:\n",
    "    code.write(dataWav)"
   ]
  },
  {
   "cell_type": "code",
   "execution_count": 12,
   "metadata": {},
   "outputs": [],
   "source": [
    "# saving data into csv file \n",
    "import json\n",
    "import csv\n",
    "fieldnames = ['id', 'time','result_url', 'wave_url', 'element', 'phone_model', 'test_reason', 'test_result_comments', 'test_reason_comments']\n",
    "csvfile=open('C:/git/cropped/table23.csv', 'w')\n",
    "writer = csv.DictWriter(csvfile, fieldnames=fieldnames)\n",
    "writer.writeheader()\n",
    "for datain in dataJson:\n",
    "    writer.writerow(datain)"
   ]
  },
  {
   "cell_type": "code",
   "execution_count": null,
   "metadata": {},
   "outputs": [],
   "source": []
  }
 ],
 "metadata": {
  "kernelspec": {
   "display_name": "Python [default]",
   "language": "python",
   "name": "python3"
  },
  "language_info": {
   "codemirror_mode": {
    "name": "ipython",
    "version": 3
   },
   "file_extension": ".py",
   "mimetype": "text/x-python",
   "name": "python",
   "nbconvert_exporter": "python",
   "pygments_lexer": "ipython3",
   "version": "3.6.4"
  }
 },
 "nbformat": 4,
 "nbformat_minor": 2
}
